{
 "cells": [
  {
   "cell_type": "code",
   "execution_count": 1,
   "metadata": {},
   "outputs": [],
   "source": [
    "import matplotlib.pyplot as plt\n",
    "import matplotlib.image as mpimg\n"
   ]
  },
  {
   "cell_type": "code",
   "execution_count": 2,
   "metadata": {},
   "outputs": [],
   "source": [
    "plt.style.use('dark_background')\n"
   ]
  },
  {
   "cell_type": "code",
   "execution_count": 3,
   "metadata": {},
   "outputs": [],
   "source": [
    "import keras\n",
    "from keras.models import Sequential\n",
    "from keras.preprocessing.image import ImageDataGenerator\n",
    "from keras.layers import BatchNormalization\n",
    "from keras.layers import Conv2D, MaxPooling2D, Dense, Flatten, Activation, Dropout\n",
    "from keras.datasets import cifar10\n",
    "from keras.utils import normalize, to_categorical, np_utils\n",
    "from keras import regularizers, optimizers\n",
    "import numpy as np"
   ]
  },
  {
   "cell_type": "code",
   "execution_count": 4,
   "metadata": {},
   "outputs": [],
   "source": [
    "(x_train, y_train), (x_test, y_test) = cifar10.load_data()\n",
    "\n",
    "x_train = x_train.astype('float32')\n",
    "x_test = x_test.astype('float32')\n",
    "\n",
    "#z-score\n",
    "mean = np.mean(x_train,axis=(0,1,2,3))\n",
    "std = np.std(x_train,axis=(0,1,2,3))\n",
    "x_train = (x_train-mean)/(std+1e-7)\n",
    "x_test = (x_test-mean)/(std+1e-7)\n",
    "\n",
    "x_train = normalize(x_train, axis=1)\n",
    "x_test = normalize(x_test, axis=1)\n",
    "\n",
    "num_classes = 10\n",
    "y_train = np_utils.to_categorical(y_train,num_classes)\n",
    "y_test = np_utils.to_categorical(y_test,num_classes)"
   ]
  },
  {
   "cell_type": "code",
   "execution_count": 5,
   "metadata": {},
   "outputs": [
    {
     "name": "stdout",
     "output_type": "stream",
     "text": [
      "Model: \"sequential\"\n",
      "_________________________________________________________________\n",
      "Layer (type)                 Output Shape              Param #   \n",
      "=================================================================\n",
      "conv2d (Conv2D)              (None, 32, 32, 32)        896       \n",
      "_________________________________________________________________\n",
      "activation (Activation)      (None, 32, 32, 32)        0         \n",
      "_________________________________________________________________\n",
      "batch_normalization (BatchNo (None, 32, 32, 32)        128       \n",
      "_________________________________________________________________\n",
      "conv2d_1 (Conv2D)            (None, 32, 32, 32)        9248      \n",
      "_________________________________________________________________\n",
      "activation_1 (Activation)    (None, 32, 32, 32)        0         \n",
      "_________________________________________________________________\n",
      "batch_normalization_1 (Batch (None, 32, 32, 32)        128       \n",
      "_________________________________________________________________\n",
      "max_pooling2d (MaxPooling2D) (None, 16, 16, 32)        0         \n",
      "_________________________________________________________________\n",
      "dropout (Dropout)            (None, 16, 16, 32)        0         \n",
      "_________________________________________________________________\n",
      "conv2d_2 (Conv2D)            (None, 16, 16, 64)        18496     \n",
      "_________________________________________________________________\n",
      "activation_2 (Activation)    (None, 16, 16, 64)        0         \n",
      "_________________________________________________________________\n",
      "batch_normalization_2 (Batch (None, 16, 16, 64)        256       \n",
      "_________________________________________________________________\n",
      "conv2d_3 (Conv2D)            (None, 16, 16, 64)        36928     \n",
      "_________________________________________________________________\n",
      "activation_3 (Activation)    (None, 16, 16, 64)        0         \n",
      "_________________________________________________________________\n",
      "batch_normalization_3 (Batch (None, 16, 16, 64)        256       \n",
      "_________________________________________________________________\n",
      "max_pooling2d_1 (MaxPooling2 (None, 8, 8, 64)          0         \n",
      "_________________________________________________________________\n",
      "dropout_1 (Dropout)          (None, 8, 8, 64)          0         \n",
      "_________________________________________________________________\n",
      "conv2d_4 (Conv2D)            (None, 8, 8, 128)         73856     \n",
      "_________________________________________________________________\n",
      "activation_4 (Activation)    (None, 8, 8, 128)         0         \n",
      "_________________________________________________________________\n",
      "batch_normalization_4 (Batch (None, 8, 8, 128)         512       \n",
      "_________________________________________________________________\n",
      "conv2d_5 (Conv2D)            (None, 8, 8, 128)         147584    \n",
      "_________________________________________________________________\n",
      "activation_5 (Activation)    (None, 8, 8, 128)         0         \n",
      "_________________________________________________________________\n",
      "batch_normalization_5 (Batch (None, 8, 8, 128)         512       \n",
      "_________________________________________________________________\n",
      "max_pooling2d_2 (MaxPooling2 (None, 4, 4, 128)         0         \n",
      "_________________________________________________________________\n",
      "dropout_2 (Dropout)          (None, 4, 4, 128)         0         \n",
      "_________________________________________________________________\n",
      "flatten (Flatten)            (None, 2048)              0         \n",
      "_________________________________________________________________\n",
      "dense (Dense)                (None, 10)                20490     \n",
      "=================================================================\n",
      "Total params: 309,290\n",
      "Trainable params: 308,394\n",
      "Non-trainable params: 896\n",
      "_________________________________________________________________\n"
     ]
    }
   ],
   "source": [
    "baseMapNum = 32\n",
    "weight_decay = 1e-4\n",
    "model = Sequential()\n",
    "model.add(Conv2D(baseMapNum, (3,3), padding='same', kernel_regularizer=regularizers.l2(weight_decay), input_shape=x_train.shape[1:]))\n",
    "model.add(Activation('relu'))\n",
    "model.add(BatchNormalization())\n",
    "model.add(Conv2D(baseMapNum, (3,3), padding='same', kernel_regularizer=regularizers.l2(weight_decay)))\n",
    "model.add(Activation('relu'))\n",
    "model.add(BatchNormalization())\n",
    "model.add(MaxPooling2D(pool_size=(2,2)))\n",
    "model.add(Dropout(0.2))\n",
    "\n",
    "model.add(Conv2D(2*baseMapNum, (3,3), padding='same', kernel_regularizer=regularizers.l2(weight_decay)))\n",
    "model.add(Activation('relu'))\n",
    "model.add(BatchNormalization())\n",
    "model.add(Conv2D(2*baseMapNum, (3,3), padding='same', kernel_regularizer=regularizers.l2(weight_decay)))\n",
    "model.add(Activation('relu'))\n",
    "model.add(BatchNormalization())\n",
    "model.add(MaxPooling2D(pool_size=(2,2)))\n",
    "model.add(Dropout(0.3))\n",
    "\n",
    "model.add(Conv2D(4*baseMapNum, (3,3), padding='same', kernel_regularizer=regularizers.l2(weight_decay)))\n",
    "model.add(Activation('relu'))\n",
    "model.add(BatchNormalization())\n",
    "model.add(Conv2D(4*baseMapNum, (3,3), padding='same', kernel_regularizer=regularizers.l2(weight_decay)))\n",
    "model.add(Activation('relu'))\n",
    "model.add(BatchNormalization())\n",
    "model.add(MaxPooling2D(pool_size=(2,2)))\n",
    "model.add(Dropout(0.4))\n",
    "\n",
    "model.add(Flatten())\n",
    "model.add(Dense(num_classes, activation='softmax'))\n",
    "\n",
    "model.summary()"
   ]
  },
  {
   "cell_type": "code",
   "execution_count": 6,
   "metadata": {},
   "outputs": [],
   "source": [
    "datagen = ImageDataGenerator(\n",
    "    featurewise_center=False,\n",
    "    samplewise_center=False,\n",
    "    featurewise_std_normalization=False,\n",
    "    samplewise_std_normalization=False,\n",
    "    zca_whitening=False,\n",
    "    rotation_range=15,\n",
    "    width_shift_range=0.1,\n",
    "    height_shift_range=0.1,\n",
    "    horizontal_flip=True,\n",
    "    vertical_flip=False\n",
    "    )\n",
    "datagen.fit(x_train)"
   ]
  },
  {
   "cell_type": "code",
   "execution_count": 7,
   "metadata": {},
   "outputs": [
    {
     "name": "stdout",
     "output_type": "stream",
     "text": [
      "WARNING:tensorflow:From <ipython-input-7-e8b323f6cecc>:8: Model.fit_generator (from tensorflow.python.keras.engine.training) is deprecated and will be removed in a future version.\n",
      "Instructions for updating:\n",
      "Please use Model.fit, which supports generators.\n",
      "Epoch 1/25\n",
      "781/781 [==============================] - 368s 471ms/step - loss: 2.2840 - accuracy: 0.3381 - val_loss: 1.4053 - val_accuracy: 0.5277\n",
      "Epoch 2/25\n",
      "781/781 [==============================] - 367s 469ms/step - loss: 1.5457 - accuracy: 0.4886 - val_loss: 1.1813 - val_accuracy: 0.6111\n",
      "Epoch 3/25\n",
      "781/781 [==============================] - 386s 494ms/step - loss: 1.2963 - accuracy: 0.5659 - val_loss: 1.1876 - val_accuracy: 0.6141\n",
      "Epoch 4/25\n",
      "781/781 [==============================] - 395s 506ms/step - loss: 1.1437 - accuracy: 0.6157 - val_loss: 0.9555 - val_accuracy: 0.6875\n",
      "Epoch 5/25\n",
      "781/781 [==============================] - 338s 433ms/step - loss: 1.0603 - accuracy: 0.6431 - val_loss: 1.0394 - val_accuracy: 0.6757\n",
      "Epoch 6/25\n",
      "781/781 [==============================] - 319s 408ms/step - loss: 0.9948 - accuracy: 0.6662 - val_loss: 0.8971 - val_accuracy: 0.7144\n",
      "Epoch 7/25\n",
      "781/781 [==============================] - 324s 414ms/step - loss: 0.9457 - accuracy: 0.6850 - val_loss: 0.9291 - val_accuracy: 0.7102\n",
      "Epoch 8/25\n",
      "781/781 [==============================] - 320s 409ms/step - loss: 0.9121 - accuracy: 0.6980 - val_loss: 0.8091 - val_accuracy: 0.7409\n",
      "Epoch 9/25\n",
      "781/781 [==============================] - 320s 410ms/step - loss: 0.8737 - accuracy: 0.7119 - val_loss: 0.7908 - val_accuracy: 0.7484\n",
      "Epoch 10/25\n",
      "781/781 [==============================] - 323s 413ms/step - loss: 0.8518 - accuracy: 0.7189 - val_loss: 0.7751 - val_accuracy: 0.7553\n",
      "Epoch 11/25\n",
      "781/781 [==============================] - 312s 399ms/step - loss: 0.8232 - accuracy: 0.7329 - val_loss: 0.8334 - val_accuracy: 0.7421\n",
      "Epoch 12/25\n",
      "781/781 [==============================] - 315s 403ms/step - loss: 0.8043 - accuracy: 0.7355 - val_loss: 0.7621 - val_accuracy: 0.7633\n",
      "Epoch 13/25\n",
      "781/781 [==============================] - 324s 415ms/step - loss: 0.7921 - accuracy: 0.7420 - val_loss: 0.7112 - val_accuracy: 0.7729\n",
      "Epoch 14/25\n",
      "781/781 [==============================] - 303s 388ms/step - loss: 0.7672 - accuracy: 0.7507 - val_loss: 0.8229 - val_accuracy: 0.7527\n",
      "Epoch 15/25\n",
      "781/781 [==============================] - 307s 392ms/step - loss: 0.7543 - accuracy: 0.7550 - val_loss: 0.7450 - val_accuracy: 0.7713\n",
      "Epoch 16/25\n",
      "781/781 [==============================] - 303s 389ms/step - loss: 0.7380 - accuracy: 0.7616 - val_loss: 0.6816 - val_accuracy: 0.7889\n",
      "Epoch 17/25\n",
      "781/781 [==============================] - 300s 384ms/step - loss: 0.7291 - accuracy: 0.7634 - val_loss: 0.6358 - val_accuracy: 0.8028\n",
      "Epoch 18/25\n",
      "781/781 [==============================] - 303s 388ms/step - loss: 0.7173 - accuracy: 0.7683 - val_loss: 0.6328 - val_accuracy: 0.8032\n",
      "Epoch 19/25\n",
      "781/781 [==============================] - 304s 390ms/step - loss: 0.7038 - accuracy: 0.7746 - val_loss: 0.6936 - val_accuracy: 0.7888\n",
      "Epoch 20/25\n",
      "781/781 [==============================] - 308s 394ms/step - loss: 0.6961 - accuracy: 0.7773 - val_loss: 0.6385 - val_accuracy: 0.8024\n",
      "Epoch 21/25\n",
      "781/781 [==============================] - 308s 395ms/step - loss: 0.6832 - accuracy: 0.7815 - val_loss: 0.6981 - val_accuracy: 0.7862\n",
      "Epoch 22/25\n",
      "781/781 [==============================] - 302s 387ms/step - loss: 0.6764 - accuracy: 0.7856 - val_loss: 0.6722 - val_accuracy: 0.7914\n",
      "Epoch 23/25\n",
      "781/781 [==============================] - 332s 425ms/step - loss: 0.6699 - accuracy: 0.7858 - val_loss: 0.6644 - val_accuracy: 0.7994\n",
      "Epoch 24/25\n",
      "781/781 [==============================] - 351s 450ms/step - loss: 0.6569 - accuracy: 0.7910 - val_loss: 0.5991 - val_accuracy: 0.8186\n",
      "Epoch 25/25\n",
      "781/781 [==============================] - 375s 480ms/step - loss: 0.6468 - accuracy: 0.7950 - val_loss: 0.6197 - val_accuracy: 0.8146\n"
     ]
    }
   ],
   "source": [
    "batch_size = 64\n",
    "epochs=25\n",
    "\n",
    "opt_rms = keras.optimizers.RMSprop(lr=0.0003,decay=1e-6)\n",
    "model.compile(loss='categorical_crossentropy',\n",
    "        optimizer=opt_rms,\n",
    "        metrics=['accuracy'])\n",
    "history = model.fit_generator(datagen.flow(x_train, y_train, batch_size=batch_size),steps_per_epoch=x_train.shape[0] // batch_size,epochs=epochs,verbose=1,validation_data=(x_test,y_test))\n",
    "model.save_weights('cifar10_normal_rms_ep125.h5')"
   ]
  },
  {
   "cell_type": "code",
   "execution_count": 8,
   "metadata": {},
   "outputs": [
    {
     "data": {
      "image/png": "[encoded data removed]",
      "text/plain": [
       "<Figure size 432x288 with 1 Axes>"
      ]
     },
     "metadata": {},
     "output_type": "display_data"
    },
    {
     "data": {
      "image/png": "[encoded data removed]",
      "text/plain": [
       "<Figure size 432x288 with 1 Axes>"
      ]
     },
     "metadata": {},
     "output_type": "display_data"
    }
   ],
   "source": [
    "loss = history.history['loss']\n",
    "val_loss = history.history['val_loss']\n",
    "epochs = range(1, len(loss) + 1)\n",
    "plt.plot(epochs, loss, 'y', label='Training loss')\n",
    "plt.plot(epochs, val_loss, 'r', label='Validation loss')\n",
    "plt.title('Training and validation loss')\n",
    "plt.xlabel('Epochs')\n",
    "plt.ylabel('Loss')\n",
    "plt.legend()\n",
    "plt.show()\n",
    "acc = history.history['accuracy']\n",
    "val_acc = history.history['val_accuracy']\n",
    "plt.plot(epochs, acc, 'y', label='Training acc')\n",
    "plt.plot(epochs, val_acc, 'r', label='Validation acc')\n",
    "plt.title('Training and validation accuracy')\n",
    "plt.xlabel('Epochs')\n",
    "plt.ylabel('Accuracy')\n",
    "plt.legend()\n",
    "plt.show()"
   ]
  },
  {
   "cell_type": "code",
   "execution_count": 9,
   "metadata": {},
   "outputs": [
    {
     "name": "stdout",
     "output_type": "stream",
     "text": [
      "79/79 [==============================] - 8s 98ms/step - loss: 0.6197 - accuracy: 0.8146\n",
      "Testing scores:\n",
      "\n",
      "Test result: 81.460 percent        loss: 61.969 percent\n"
     ]
    }
   ],
   "source": [
    "scores = model.evaluate(x_test, y_test, batch_size=128, verbose=1)\n",
    "print(\"Testing scores:\")\n",
    "print('\\nTest result: %.3f percent        loss: %.3f percent' % (scores[1]*100,scores[0]*100))"
   ]
  },
  {
   "cell_type": "code",
   "execution_count": 10,
   "metadata": {},
   "outputs": [
    {
     "name": "stdout",
     "output_type": "stream",
     "text": [
      "391/391 [==============================] - 42s 108ms/step - loss: 0.5244 - accuracy: 0.8396\n",
      "Training scores:\n",
      "\n",
      "Test result: 83.956 percent        loss: 52.440 percent\n"
     ]
    }
   ],
   "source": [
    "scores = model.evaluate(x_train, y_train, batch_size=128, verbose=1)\n",
    "print(\"Training scores:\")\n",
    "print('\\nTest result: %.3f percent        loss: %.3f percent' % (scores[1]*100,scores[0]*100))"
   ]
  },
  {
   "cell_type": "code",
   "execution_count": null,
   "metadata": {},
   "outputs": [],
   "source": [
    "img1 = plt.imread(\"airplane10.png\")\n",
    "y = model.predict_classes(img1.reshape(1,32,32,3))\n",
    "y"
   ]
  },
  {
   "cell_type": "code",
   "execution_count": 43,
   "metadata": {},
   "outputs": [],
   "source": [
    "model.save(\"model1.h5\")"
   ]
  },
  {
   "cell_type": "code",
   "execution_count": null,
   "metadata": {},
   "outputs": [],
   "source": [
    "import cv2\n",
    "img2 = cv2.imread(\"frog_big.jpg\")\n",
    "img2 = cv2.resize(img2,(32,32))\n",
    "cv2.imshow('img2',img2)\n",
    "cv2.waitKey(0)\n",
    "cv2.destroyAllWindows()\n",
    "y = model.predict_classes(img1.reshape(1,32,32,3))\n",
    "y"
   ]
  },
  {
   "cell_type": "code",
   "execution_count": null,
   "metadata": {},
   "outputs": [],
   "source": []
  },
  {
   "cell_type": "code",
   "execution_count": null,
   "metadata": {},
   "outputs": [],
   "source": []
  },
  {
   "cell_type": "code",
   "execution_count": null,
   "metadata": {},
   "outputs": [],
   "source": []
  }
 ],
 "metadata": {
  "kernelspec": {
   "display_name": "Python 3",
   "language": "python",
   "name": "python3"
  },
  "language_info": {
   "codemirror_mode": {
    "name": "ipython",
    "version": 3
   },
   "file_extension": ".py",
   "mimetype": "text/x-python",
   "name": "python",
   "nbconvert_exporter": "python",
   "pygments_lexer": "ipython3",
   "version": "3.7.4"
  }
 },
 "nbformat": 4,
 "nbformat_minor": 2
}
